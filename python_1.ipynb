{
 "cells": [
  {
   "cell_type": "code",
   "execution_count": 1,
   "id": "0b6a0a7e",
   "metadata": {},
   "outputs": [
    {
     "name": "stdout",
     "output_type": "stream",
     "text": [
      "hello shaurya\n"
     ]
    }
   ],
   "source": [
    "print(\"hello shaurya\")"
   ]
  },
  {
   "cell_type": "code",
   "execution_count": 2,
   "id": "c5dc6f6c",
   "metadata": {},
   "outputs": [
    {
     "name": "stdout",
     "output_type": "stream",
     "text": [
      "shaurya\n"
     ]
    }
   ],
   "source": [
    "print(\"shaurya\")"
   ]
  },
  {
   "cell_type": "markdown",
   "id": "e0edbbd1",
   "metadata": {},
   "source": [
    "###python is case sensitive"
   ]
  },
  {
   "cell_type": "raw",
   "id": "33c32f59",
   "metadata": {},
   "source": [
    "### python"
   ]
  },
  {
   "cell_type": "markdown",
   "id": "a3133a99",
   "metadata": {},
   "source": [
    "### python"
   ]
  },
  {
   "cell_type": "markdown",
   "id": "b25f7814",
   "metadata": {},
   "source": [
    "## shaurya"
   ]
  },
  {
   "cell_type": "code",
   "execution_count": 3,
   "id": "911e7085",
   "metadata": {},
   "outputs": [
    {
     "data": {
      "text/plain": [
       "int"
      ]
     },
     "execution_count": 3,
     "metadata": {},
     "output_type": "execute_result"
    }
   ],
   "source": [
    "x=10\n",
    "type(x)"
   ]
  },
  {
   "cell_type": "code",
   "execution_count": 4,
   "id": "ecdc92ed",
   "metadata": {},
   "outputs": [
    {
     "data": {
      "text/plain": [
       "('acha', 'achaa', 'ok')"
      ]
     },
     "execution_count": 4,
     "metadata": {},
     "output_type": "execute_result"
    }
   ],
   "source": [
    "x=(\"acha\",'achaa',\"ok\")\n",
    "x"
   ]
  },
  {
   "cell_type": "code",
   "execution_count": null,
   "id": "4ba153a0",
   "metadata": {},
   "outputs": [],
   "source": []
  }
 ],
 "metadata": {
  "kernelspec": {
   "display_name": "Python 3 (ipykernel)",
   "language": "python",
   "name": "python3"
  },
  "language_info": {
   "codemirror_mode": {
    "name": "ipython",
    "version": 3
   },
   "file_extension": ".py",
   "mimetype": "text/x-python",
   "name": "python",
   "nbconvert_exporter": "python",
   "pygments_lexer": "ipython3",
   "version": "3.9.13"
  }
 },
 "nbformat": 4,
 "nbformat_minor": 5
}
